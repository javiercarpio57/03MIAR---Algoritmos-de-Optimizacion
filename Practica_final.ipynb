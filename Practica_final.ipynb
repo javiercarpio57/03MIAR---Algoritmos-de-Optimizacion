{
  "nbformat": 4,
  "nbformat_minor": 0,
  "metadata": {
    "colab": {
      "provenance": [],
      "authorship_tag": "ABX9TyOFEvU4riqk8ZULXvMMcEPj",
      "include_colab_link": true
    },
    "kernelspec": {
      "name": "python3",
      "display_name": "Python 3"
    },
    "language_info": {
      "name": "python"
    }
  },
  "cells": [
    {
      "cell_type": "markdown",
      "metadata": {
        "id": "view-in-github",
        "colab_type": "text"
      },
      "source": [
        "<a href=\"https://colab.research.google.com/github/javiercarpio57/03MIAR---Algoritmos-de-Optimizacion/blob/main/Practica_final.ipynb\" target=\"_parent\"><img src=\"https://colab.research.google.com/assets/colab-badge.svg\" alt=\"Open In Colab\"/></a>"
      ]
    },
    {
      "cell_type": "code",
      "execution_count": 1,
      "metadata": {
        "id": "-9R7upCI61hy"
      },
      "outputs": [],
      "source": [
        "from itertools import permutations\n",
        "import numpy as np\n",
        "import random\n",
        "\n",
        "numbers = list(range(1, 10))\n",
        "operations = ['+', '-', '*', '/']"
      ]
    },
    {
      "cell_type": "code",
      "source": [
        "numbers_combination = [i for i in permutations(numbers, 5)]\n",
        "operations_combination = [i for i in permutations(operations)]\n",
        "total = []\n",
        "\n",
        "for n in numbers_combination:\n",
        "  for x in operations_combination:\n",
        "    total.append(f'{n[0]}{x[0]}{n[1]}{x[1]}{n[2]}{x[2]}{n[3]}{x[3]}{n[4]}')"
      ],
      "metadata": {
        "id": "uFC4cV3y7D4X"
      },
      "execution_count": 2,
      "outputs": []
    },
    {
      "cell_type": "markdown",
      "source": [
        "##Fuerza Bruta"
      ],
      "metadata": {
        "id": "dJv0ExkGLkbd"
      }
    },
    {
      "cell_type": "code",
      "source": [
        "def fuerza_bruta(permutations):\n",
        "  max = -np.inf\n",
        "  operation_max = None\n",
        "\n",
        "  min = np.inf\n",
        "  operation_min = None\n",
        "  for x in permutations:\n",
        "    result = eval(x)\n",
        "\n",
        "    if result > max:\n",
        "      max = result\n",
        "      operation_max = [x]\n",
        "    elif result == max:\n",
        "      operation_max = x\n",
        "\n",
        "    if result < min:\n",
        "      min = result\n",
        "      operation_min = [x]\n",
        "    elif result == min:\n",
        "      operation_min = x\n",
        "    \n",
        "  return operation_max, max, operation_min, min"
      ],
      "metadata": {
        "id": "bR9IMLQH8qcR"
      },
      "execution_count": 3,
      "outputs": []
    },
    {
      "cell_type": "code",
      "source": [
        "operation_max, max, operation_min, min = fuerza_bruta(total)"
      ],
      "metadata": {
        "id": "CBdv2yXB9SVD"
      },
      "execution_count": 4,
      "outputs": []
    },
    {
      "cell_type": "code",
      "source": [
        "print(max, min)"
      ],
      "metadata": {
        "colab": {
          "base_uri": "https://localhost:8080/"
        },
        "id": "ddzGG6Xz9Wfq",
        "outputId": "370032f5-6db9-48ad-db51-192cd4fb125e"
      },
      "execution_count": 5,
      "outputs": [
        {
          "output_type": "stream",
          "name": "stdout",
          "text": [
            "78.83333333333333 -70.71428571428571\n"
          ]
        }
      ]
    },
    {
      "cell_type": "code",
      "source": [
        "print(operation_max)"
      ],
      "metadata": {
        "colab": {
          "base_uri": "https://localhost:8080/"
        },
        "id": "CYnEFV2LL7Vf",
        "outputId": "ca4bb23c-d617-4572-8c79-71ae3b181ad9"
      },
      "execution_count": 6,
      "outputs": [
        {
          "output_type": "stream",
          "name": "stdout",
          "text": [
            "9*8+7-1/6\n"
          ]
        }
      ]
    },
    {
      "cell_type": "code",
      "source": [
        "print(operation_min)"
      ],
      "metadata": {
        "colab": {
          "base_uri": "https://localhost:8080/"
        },
        "id": "iu6BAH3O9aRU",
        "outputId": "51ba44e9-da27-4b5c-d1ed-ef3cbadac24a"
      },
      "execution_count": 7,
      "outputs": [
        {
          "output_type": "stream",
          "name": "stdout",
          "text": [
            "2/7-9*8+1\n"
          ]
        }
      ]
    },
    {
      "cell_type": "markdown",
      "source": [
        "##Algoritmo genético"
      ],
      "metadata": {
        "id": "jEOcJ4WbLyJ5"
      }
    },
    {
      "cell_type": "code",
      "source": [
        "def expand_operation(operation):\n",
        "  numbers = [operation[x] for x in range(len(operation)) if x % 2 == 0]\n",
        "  operations = [operation[x] for x in range(len(operation)) if x % 2 != 0]\n",
        "  return numbers, operations\n",
        "\n",
        "def generate_solution(N):\n",
        "  solutions = []\n",
        "  for i in range(N):\n",
        "    rand_num = random.randint(0, len(numbers_combination) - 1)\n",
        "    rand_op = random.randint(0, len(operations_combination) - 1)\n",
        "\n",
        "    num = numbers_combination[rand_num]\n",
        "    op = operations_combination[rand_op]\n",
        "\n",
        "    solutions.append(f'{num[0]}{op[0]}{num[1]}{op[1]}{num[2]}{op[2]}{num[3]}{op[3]}{num[4]}')\n",
        "\n",
        "  return solutions\n",
        "\n",
        "def crossover(population):\n",
        "  children = []\n",
        "  population_ = population.copy()\n",
        "  while len(population_) > 1:\n",
        "    father = population_.pop(random.randint(0, len(population_) - 1))\n",
        "    mother = population_.pop(random.randint(0, len(population_) - 1))\n",
        "\n",
        "    slice_point = random.randint(1, len(father) - 2)\n",
        "    father_pt1, father_pt2 = father[:slice_point], father[slice_point:]\n",
        "    mother_pt1, mother_pt2 = mother[:slice_point], mother[slice_point:]\n",
        "\n",
        "    child1, child2 = father_pt1 + mother_pt2, mother_pt1 + father_pt2\n",
        "    children.append(child1)\n",
        "    children.append(child2)\n",
        "\n",
        "  return children\n",
        "\n",
        "def check_children(child):\n",
        "  nums, ops = expand_operation(child)\n",
        "\n",
        "  if len(nums) != len(list(set(nums))) or len(ops) != len(list(set(ops))):\n",
        "    available_numbers = [i for i in range(1, 10) if str(i) not in nums]\n",
        "    numbers_in_child = []\n",
        "    for num in nums:\n",
        "      if num not in numbers_in_child:\n",
        "        numbers_in_child.append(num)\n",
        "      else:\n",
        "        new_num = available_numbers.pop(random.randint(0, len(available_numbers) - 1))\n",
        "        numbers_in_child.append(str(new_num))\n",
        "    \n",
        "    available_ops = [i for i in ['+', '-', '*', '/'] if i not in ops]\n",
        "    ops_in_child = []\n",
        "    for op in ops:\n",
        "      if op not in ops_in_child:\n",
        "        ops_in_child.append(op)\n",
        "      else:\n",
        "        new_op = available_ops.pop(random.randint(0, len(available_ops) - 1))\n",
        "        ops_in_child.append(str(new_op))\n",
        "    \n",
        "    corrected_child = f'{numbers_in_child[0]}{ops_in_child[0]}{numbers_in_child[1]}{ops_in_child[1]}{numbers_in_child[2]}{ops_in_child[2]}{numbers_in_child[3]}{ops_in_child[3]}{numbers_in_child[4]}'\n",
        "    return corrected_child\n",
        "  else:\n",
        "    return child\n",
        "\n",
        "def algoritmo_genetico(fitness, max_iter):\n",
        "  porcentaje_inicial = 0.001\n",
        "  poblacion_inicial = generate_solution(int(len(total) * porcentaje_inicial))\n",
        "\n",
        "  resultado_fitness = list(map(lambda x: fitness(x), poblacion_inicial))\n",
        "  \n",
        "  poblacion_fitness = list(zip(poblacion_inicial, resultado_fitness))\n",
        "  poblacion_fitness.sort(key = lambda x: x[1], reverse = True)\n",
        "  \n",
        "  cont = 0\n",
        "  best_try = -np.inf\n",
        "  tries = 0\n",
        "  while cont < max_iter:\n",
        "    seleccion = poblacion_fitness[:int(0.7*len(poblacion_fitness))]\n",
        "    seleccion = [x[0] for x in seleccion]\n",
        "    \n",
        "    children = crossover(seleccion)\n",
        "    children = [check_children(child) for child in children] + seleccion[:int(0.3*len(poblacion_fitness))]\n",
        "\n",
        "    resultado_fitness = list(map(lambda x: fitness(x), children))\n",
        "    poblacion_fitness = list(zip(children, resultado_fitness))\n",
        "    poblacion_fitness.sort(key = lambda x: x[1], reverse = True)\n",
        "\n",
        "    if poblacion_fitness[0][1] > best_try:\n",
        "      best_try = poblacion_fitness[0][1]\n",
        "      tries = 0\n",
        "    else:\n",
        "      tries += 1\n",
        "\n",
        "    if tries > 0.25 * max_iter:\n",
        "      break\n",
        "\n",
        "    cont += 1\n",
        "\n",
        "  print(f'Intentos para llegar al maximo:', cont)\n",
        "  return poblacion_fitness[0]\n"
      ],
      "metadata": {
        "id": "tdvMVxm6JaLd"
      },
      "execution_count": 68,
      "outputs": []
    },
    {
      "cell_type": "code",
      "source": [
        "fitness = lambda individuo: eval(individuo)"
      ],
      "metadata": {
        "id": "J5YcQMmVSX_k"
      },
      "execution_count": 69,
      "outputs": []
    },
    {
      "cell_type": "code",
      "source": [
        "N = 100\n",
        "children = algoritmo_genetico(fitness, N)"
      ],
      "metadata": {
        "colab": {
          "base_uri": "https://localhost:8080/"
        },
        "id": "v-orxbsoS39J",
        "outputId": "a75dbdc2-9cca-4d36-b5e2-a1e5e332b676"
      },
      "execution_count": 76,
      "outputs": [
        {
          "output_type": "stream",
          "name": "stdout",
          "text": [
            "Intentos para llegar al maximo: 37\n"
          ]
        }
      ]
    },
    {
      "cell_type": "code",
      "source": [
        "print(children)"
      ],
      "metadata": {
        "colab": {
          "base_uri": "https://localhost:8080/"
        },
        "id": "r-65YxEEQS0V",
        "outputId": "a614ca75-21a4-47ea-9dbf-0cc16a317400"
      },
      "execution_count": 77,
      "outputs": [
        {
          "output_type": "stream",
          "name": "stdout",
          "text": [
            "('9*8+7-1/6', 78.83333333333333)\n"
          ]
        }
      ]
    },
    {
      "cell_type": "code",
      "source": [],
      "metadata": {
        "id": "IgndICOhQZld"
      },
      "execution_count": null,
      "outputs": []
    }
  ]
}