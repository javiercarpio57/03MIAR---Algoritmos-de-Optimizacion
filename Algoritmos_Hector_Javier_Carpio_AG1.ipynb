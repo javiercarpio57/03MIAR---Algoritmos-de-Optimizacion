{
  "nbformat": 4,
  "nbformat_minor": 0,
  "metadata": {
    "colab": {
      "provenance": [],
      "authorship_tag": "ABX9TyOvmkW+DZWbAua9i0FxSSPs",
      "include_colab_link": true
    },
    "kernelspec": {
      "name": "python3",
      "display_name": "Python 3"
    },
    "language_info": {
      "name": "python"
    }
  },
  "cells": [
    {
      "cell_type": "markdown",
      "metadata": {
        "id": "view-in-github",
        "colab_type": "text"
      },
      "source": [
        "<a href=\"https://colab.research.google.com/github/javiercarpio57/03MIAR---Algoritmos-de-Optimizacion/blob/main/Algoritmos_Hector_Javier_Carpio_AG1.ipynb\" target=\"_parent\"><img src=\"https://colab.research.google.com/assets/colab-badge.svg\" alt=\"Open In Colab\"/></a>"
      ]
    },
    {
      "cell_type": "markdown",
      "source": [
        "# Actividad Guiada 1\n",
        "\n",
        "<strong>Nombre: Héctor Javier Carpio García</strong>\n",
        "\n",
        "\n",
        "https://colab.research.google.com/drive/1UWkKovANI33YbsPwf0eD98_5IEuAe2wh?usp=sharing\n",
        "\n",
        "https://github.com/javiercarpio57/03MIAR---Algoritmos-de-Optimizacion.git"
      ],
      "metadata": {
        "id": "tnerQ_CS0TWd"
      }
    },
    {
      "cell_type": "markdown",
      "source": [
        "## Divide y vencerás"
      ],
      "metadata": {
        "id": "0iv1DTGR1AjW"
      }
    },
    {
      "cell_type": "markdown",
      "source": [
        "## Torres de Hanoi"
      ],
      "metadata": {
        "id": "DFrg2rzn1Abl"
      }
    },
    {
      "cell_type": "code",
      "execution_count": null,
      "metadata": {
        "id": "0Tb7EbNP0PoK"
      },
      "outputs": [],
      "source": [
        "def torres_hanoy(N, desde, hasta):\n",
        "  if N == 1:\n",
        "    print(f'Llevar desde {desde} hasta {hasta}')\n",
        "  else:\n",
        "    torres_hanoy(N - 1, desde, 6 - desde - hasta)\n",
        "    print(f'Llevar desde {desde} hasta {hasta}')\n",
        "    torres_hanoy(N - 1, 6 - desde - hasta, hasta)"
      ]
    },
    {
      "cell_type": "code",
      "source": [
        "torres_hanoy(3, 1, 3)"
      ],
      "metadata": {
        "colab": {
          "base_uri": "https://localhost:8080/"
        },
        "id": "sd-N9hXF4F-i",
        "outputId": "d475acce-66cb-4876-e977-84e79bb49321"
      },
      "execution_count": null,
      "outputs": [
        {
          "output_type": "stream",
          "name": "stdout",
          "text": [
            "Llevar desde 1 hasta 3\n",
            "Llevar desde 1 hasta 2\n",
            "Llevar desde 3 hasta 2\n",
            "Llevar desde 1 hasta 3\n",
            "Llevar desde 2 hasta 1\n",
            "Llevar desde 2 hasta 3\n",
            "Llevar desde 1 hasta 3\n"
          ]
        }
      ]
    },
    {
      "cell_type": "markdown",
      "source": [
        "#Técnica Voraz"
      ],
      "metadata": {
        "id": "C-foOSck_m1H"
      }
    },
    {
      "cell_type": "markdown",
      "source": [
        "## Cambio de monedas"
      ],
      "metadata": {
        "id": "pOpB1n_F_tXy"
      }
    },
    {
      "cell_type": "code",
      "source": [
        "def cambio_monedas(cantidad, sistema_monetario):\n",
        "  solucion = []\n",
        "  acumulado = 0\n",
        "  for moneda in sistema_monetario:\n",
        "    monedas = (cantidad - acumulado) // moneda\n",
        "    \n",
        "    solucion.append((monedas, moneda))\n",
        "\n",
        "    acumulado += monedas * moneda\n",
        "    \n",
        "    if acumulado == cantidad:\n",
        "      return solucion\n",
        "\n",
        "  return None"
      ],
      "metadata": {
        "id": "469PW9Ky4IN6"
      },
      "execution_count": null,
      "outputs": []
    },
    {
      "cell_type": "code",
      "source": [
        "solucion = cambio_monedas(180, [50, 20, 10, 5, 2, 1])\n",
        "\n",
        "for sol in solucion:\n",
        "  print(f'{sol[0]} moneda(s) de {sol[1]}')"
      ],
      "metadata": {
        "colab": {
          "base_uri": "https://localhost:8080/"
        },
        "id": "47h0kJn4A8nc",
        "outputId": "b5f536a9-8848-465b-c0e1-a38327ee578f"
      },
      "execution_count": null,
      "outputs": [
        {
          "output_type": "stream",
          "name": "stdout",
          "text": [
            "3 moneda(s) de 50\n",
            "1 moneda(s) de 20\n",
            "1 moneda(s) de 10\n"
          ]
        }
      ]
    },
    {
      "cell_type": "markdown",
      "source": [
        "#Backtracking"
      ],
      "metadata": {
        "id": "DOSjsR1iECKj"
      }
    },
    {
      "cell_type": "markdown",
      "source": [
        "##Problema de las 4 reinas"
      ],
      "metadata": {
        "id": "uwF2zRdrEFFU"
      }
    },
    {
      "cell_type": "code",
      "source": [
        "def reinas(N, solucion, etapa):\n",
        "  if len(solucion) == 0:\n",
        "    solucion = [0 for i in range(N)]\n",
        "\n",
        "  for i in range(1, N + 1):\n",
        "    solucion[etapa] = i\n",
        "\n",
        "    if es_prometedora(solucion, etapa):\n",
        "      if etapa == N - 1:\n",
        "        print(solucion)\n",
        "      else:\n",
        "        reinas(N, solucion, etapa + 1)\n",
        "    else:\n",
        "      None\n",
        "\n",
        "  solucion[etapa] = 0\n",
        "\n",
        "def es_prometedora(solucion, etapa):\n",
        "  for i in range(etapa + 1):\n",
        "    if solucion.count(solucion[i]) > 1:\n",
        "      return False\n",
        "    \n",
        "    for j in range(i + 1, etapa + 1):\n",
        "      if abs(i - j) == abs(solucion[i] - solucion[j]):\n",
        "        return False\n",
        "\n",
        "  return True\n",
        "\n",
        "def escribe_solucion(S):\n",
        "  n = len(S)\n",
        "  for x in range(n):\n",
        "    print('')\n",
        "    for i in range(n):\n",
        "      if S[i] == x + 1:\n",
        "        print(' X ', end='')\n",
        "      else:\n",
        "        print(' - ', end='')"
      ],
      "metadata": {
        "id": "VhbOC8y2EDpC"
      },
      "execution_count": null,
      "outputs": []
    },
    {
      "cell_type": "code",
      "source": [
        "reinas(4, [], 0)"
      ],
      "metadata": {
        "id": "TL0H_jNtIJSD",
        "colab": {
          "base_uri": "https://localhost:8080/"
        },
        "outputId": "6aae775b-32e3-4e7e-8ecf-6f8f17dd9c43"
      },
      "execution_count": null,
      "outputs": [
        {
          "output_type": "stream",
          "name": "stdout",
          "text": [
            "[2, 4, 1, 3]\n",
            "[3, 1, 4, 2]\n"
          ]
        }
      ]
    },
    {
      "cell_type": "code",
      "source": [
        "escribe_solucion([2, 4, 1, 3])"
      ],
      "metadata": {
        "colab": {
          "base_uri": "https://localhost:8080/"
        },
        "id": "4n_xAeNMX-89",
        "outputId": "9058d335-47a0-4522-a276-1f3d382f2100"
      },
      "execution_count": null,
      "outputs": [
        {
          "output_type": "stream",
          "name": "stdout",
          "text": [
            "\n",
            " -  -  X  - \n",
            " X  -  -  - \n",
            " -  -  -  X \n",
            " -  X  -  - "
          ]
        }
      ]
    },
    {
      "cell_type": "markdown",
      "source": [
        "## Problema: Encontrar los dos puntos más cercanos"
      ],
      "metadata": {
        "id": "_ZrSJaYacysQ"
      }
    },
    {
      "cell_type": "markdown",
      "source": [
        "### Fuerza bruta"
      ],
      "metadata": {
        "id": "JDleCO8TUY-6"
      }
    },
    {
      "cell_type": "code",
      "source": [
        "import random\n",
        "import numpy as np\n",
        "import math\n",
        "import operator\n",
        "\n",
        "def list_xdim(dim, n):\n",
        "  return [[random.randrange(1, 10000) for i in range(dim)] for x in range(n)]\n",
        "\n",
        "def distance(A, B):\n",
        "  if len(A) == 3:\n",
        "    return math.sqrt((A[0] - B[0])**2 + (A[1] - B[1])**2 + (A[2] - B[2])**2)\n",
        "  else:\n",
        "    return math.dist(A, B)"
      ],
      "metadata": {
        "id": "HqsB76sOc7bR"
      },
      "execution_count": null,
      "outputs": []
    },
    {
      "cell_type": "code",
      "source": [
        "def closest_points_fuerzabruta(points, n):\n",
        "  min = np.inf\n",
        "  A = None\n",
        "  B = None\n",
        "\n",
        "  for i in range(n):\n",
        "    for j in range(i + 1, n):\n",
        "      dist = distance(points[i], points[j])\n",
        "      \n",
        "      if dist < min:\n",
        "        min = dist\n",
        "        A = points[i]\n",
        "        B = points[j]\n",
        "\n",
        "  return A, B, min"
      ],
      "metadata": {
        "id": "lFQgN5lWgNrW"
      },
      "execution_count": null,
      "outputs": []
    },
    {
      "cell_type": "code",
      "source": [
        "LISTA_1D = list_xdim(1, 1000)"
      ],
      "metadata": {
        "id": "HNaPrwireaCw"
      },
      "execution_count": null,
      "outputs": []
    },
    {
      "cell_type": "code",
      "source": [
        "A, B, dist = closest_points_fuerzabruta(LISTA_1D, len(LISTA_1D))"
      ],
      "metadata": {
        "id": "apYDdpznhJms"
      },
      "execution_count": null,
      "outputs": []
    },
    {
      "cell_type": "code",
      "source": [
        "print(f'A = {A}, B = {B}')\n",
        "print(f'Distancia: {dist}')"
      ],
      "metadata": {
        "colab": {
          "base_uri": "https://localhost:8080/"
        },
        "id": "cLrO0AmUhMEc",
        "outputId": "af638c47-21cf-46c6-a581-e28bc90b0af0"
      },
      "execution_count": null,
      "outputs": [
        {
          "output_type": "stream",
          "name": "stdout",
          "text": [
            "A = [5578], B = [5578]\n",
            "Distancia: 0.0\n"
          ]
        }
      ]
    },
    {
      "cell_type": "markdown",
      "source": [
        "### Divide and Conquer"
      ],
      "metadata": {
        "id": "A9EUbWlAUTwC"
      }
    },
    {
      "cell_type": "code",
      "source": [
        "def closest_points_divideconquer(points, n):\n",
        "  if n == 1:\n",
        "    return points[0], None, np.inf\n",
        "  elif n == 2:\n",
        "    return points[0], points[1], distance(points[0], points[1])\n",
        "  elif n == 3:\n",
        "    if distance(points[0], points[1]) <= distance(points[1], points[2]):\n",
        "      return points[0], points[1], distance(points[0], points[1])\n",
        "    else:\n",
        "      return points[1], points[2], distance(points[1], points[2])\n",
        "\n",
        "  mid_pos = n // 2\n",
        "  if len(points[0]) == 1 or len(points[0]) == 2:\n",
        "    points.sort(key=lambda x: x[0])\n",
        "  else:\n",
        "    points.sort(key=operator.itemgetter(0, 1))\n",
        "  \n",
        "  median = points[mid_pos]\n",
        "\n",
        "  points_left = points[:mid_pos]\n",
        "  points_rigth = points[mid_pos:]\n",
        "\n",
        "  Al, Bl, distance_left = closest_points_divideconquer(points_left, len(points_left))\n",
        "  Ar, Br, distance_right = closest_points_divideconquer(points_rigth, len(points_rigth))\n",
        "\n",
        "  A_min, B_min, min_distance = get_min_point(Al, Ar, Bl, Br, distance_left, distance_right)\n",
        "  \n",
        "  strip = list(filter(lambda x: distance(x, median) < min_distance and x != median, points))\n",
        "  Alr, Blr, distance_lr = closest_pair_median(strip, median, len(strip))\n",
        "\n",
        "  A_min, B_min, min_distance = get_min_point(A_min, Alr, B_min, Blr, min_distance, distance_lr)\n",
        "  return A_min, B_min, min_distance\n",
        "\n",
        "def closest_pair_median(points, median, n):\n",
        "  min = np.inf\n",
        "  A = None\n",
        "  B = None\n",
        "  for i in range(n):\n",
        "    dist = distance(points[i], median)\n",
        "    if dist < min:\n",
        "        min = dist\n",
        "        A = points[i]\n",
        "        B = median\n",
        "  return A, B, min\n",
        "\n",
        "def get_min_point(A1, A2, B1, B2, distance1, distance2):\n",
        "  if distance1 <= distance2:\n",
        "    return A1, B1, distance1\n",
        "  else:\n",
        "    return A2, B2, distance2"
      ],
      "metadata": {
        "id": "edWhAsmJjfVa"
      },
      "execution_count": null,
      "outputs": []
    },
    {
      "cell_type": "markdown",
      "source": [
        "### 1-D"
      ],
      "metadata": {
        "id": "v3u7MphRkJfw"
      }
    },
    {
      "cell_type": "code",
      "source": [
        "LISTA_1D = list_xdim(1, 1000)"
      ],
      "metadata": {
        "id": "S7AjpH0EMXEQ"
      },
      "execution_count": null,
      "outputs": []
    },
    {
      "cell_type": "code",
      "source": [
        "A, B, dist = closest_points_divideconquer(LISTA_1D, len(LISTA_1D))"
      ],
      "metadata": {
        "id": "R0VjtQ9TXJFs"
      },
      "execution_count": null,
      "outputs": []
    },
    {
      "cell_type": "code",
      "source": [
        "print(f'A = {A}, B = {B}')\n",
        "print(f'Distancia: {dist}')"
      ],
      "metadata": {
        "colab": {
          "base_uri": "https://localhost:8080/"
        },
        "id": "lSsXykipYc4L",
        "outputId": "924085d4-6bbd-4790-af21-8933f951ac8b"
      },
      "execution_count": null,
      "outputs": [
        {
          "output_type": "stream",
          "name": "stdout",
          "text": [
            "A = [260], B = [260]\n",
            "Distancia: 0.0\n"
          ]
        }
      ]
    },
    {
      "cell_type": "markdown",
      "source": [
        "###2-D"
      ],
      "metadata": {
        "id": "iWFSFa8bkNIf"
      }
    },
    {
      "cell_type": "code",
      "source": [
        "LISTA_2D = list_xdim(2, 1000)"
      ],
      "metadata": {
        "id": "5PliZByRYdcT"
      },
      "execution_count": null,
      "outputs": []
    },
    {
      "cell_type": "code",
      "source": [
        "A, B, dist = closest_points_divideconquer(LISTA_2D, len(LISTA_2D))"
      ],
      "metadata": {
        "id": "N7BXkB5wkStA"
      },
      "execution_count": null,
      "outputs": []
    },
    {
      "cell_type": "code",
      "source": [
        "print(f'A = {A}, B = {B}')\n",
        "print(f'Distancia: {dist}')"
      ],
      "metadata": {
        "colab": {
          "base_uri": "https://localhost:8080/"
        },
        "id": "iMe36Z-gkTuP",
        "outputId": "459d8fc2-8a79-43f0-c065-3d8df17c52c2"
      },
      "execution_count": null,
      "outputs": [
        {
          "output_type": "stream",
          "name": "stdout",
          "text": [
            "A = [327, 389], B = [330, 404]\n",
            "Distancia: 15.297058540778355\n"
          ]
        }
      ]
    },
    {
      "cell_type": "markdown",
      "source": [
        "###3-D"
      ],
      "metadata": {
        "id": "rwj-FCu-kU_n"
      }
    },
    {
      "cell_type": "code",
      "source": [
        "LISTA_3D = list_xdim(3, 1000)"
      ],
      "metadata": {
        "id": "ROMoqv14kUJY"
      },
      "execution_count": null,
      "outputs": []
    },
    {
      "cell_type": "code",
      "source": [
        "A, B, dist = closest_points_divideconquer(LISTA_3D, len(LISTA_3D))"
      ],
      "metadata": {
        "id": "qhogPo1CkYiA"
      },
      "execution_count": null,
      "outputs": []
    },
    {
      "cell_type": "code",
      "source": [
        "print(f'A = {A}, B = {B}')\n",
        "print(f'Distancia: {dist}')"
      ],
      "metadata": {
        "colab": {
          "base_uri": "https://localhost:8080/"
        },
        "id": "9D9VAU1dkZjQ",
        "outputId": "78edfd63-c892-4e64-a02c-5d131e9c5eb0"
      },
      "execution_count": null,
      "outputs": [
        {
          "output_type": "stream",
          "name": "stdout",
          "text": [
            "A = [4354, 7123, 3926], B = [4378, 7036, 4071]\n",
            "Distancia: 170.79227148791014\n"
          ]
        }
      ]
    }
  ]
}