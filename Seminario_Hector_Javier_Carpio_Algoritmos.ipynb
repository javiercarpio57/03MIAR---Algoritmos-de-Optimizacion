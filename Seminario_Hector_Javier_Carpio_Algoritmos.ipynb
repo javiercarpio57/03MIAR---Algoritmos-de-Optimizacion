{
  "nbformat": 4,
  "nbformat_minor": 0,
  "metadata": {
    "colab": {
      "provenance": [],
      "include_colab_link": true
    },
    "kernelspec": {
      "name": "python3",
      "display_name": "Python 3"
    }
  },
  "cells": [
    {
      "cell_type": "markdown",
      "metadata": {
        "id": "view-in-github",
        "colab_type": "text"
      },
      "source": [
        "<a href=\"https://colab.research.google.com/github/javiercarpio57/03MIAR---Algoritmos-de-Optimizacion/blob/main/Seminario_Hector_Javier_Carpio_Algoritmos.ipynb\" target=\"_parent\"><img src=\"https://colab.research.google.com/assets/colab-badge.svg\" alt=\"Open In Colab\"/></a>"
      ]
    },
    {
      "cell_type": "markdown",
      "metadata": {
        "id": "hVbXYX-RfPWh"
      },
      "source": [
        "# Algoritmos de optimización - Seminario<br>\n",
        "Nombre y Apellidos: Héctor Javier Carpio García<br>\n",
        "Url: https://github.com/javiercarpio57/03MIAR---Algoritmos-de-Optimizacion.git<br>\n",
        "Problema:\n",
        ">3. Combinar cifras y operaciones\n",
        "\n",
        "Descripción del problema:\n",
        "\n",
        "\n",
        "<strong>(*) La respuesta es obligatoria</strong>\n",
        "\n",
        "\n",
        "\n",
        "\n",
        "\n",
        "                                        "
      ]
    },
    {
      "cell_type": "markdown",
      "source": [
        "Disponemos de las 9 cifras del 1 al 9 (excluimos el cero) y de los 4 signos básicos de las operaciones fundamentales: suma (+), resta (-), multiplicación (*) y división (/). Debemos combinarlos alternativamente sin repetir ninguno de ellos para obtener una cantidad dada.\n",
        "\n",
        "Debe analizarse el problema para encontrar todos los valores enteros posibles planteando las siguiente cuestiones:\n",
        "* ¿Qué valor máximo y mínimo se pueden obtener según las condiciones del problema?\n",
        "* ¿Es posible encontrar todos los valores enteros posibles entre dicho mínimo y máximo?"
      ],
      "metadata": {
        "id": "_5M5j11fZMvI"
      }
    },
    {
      "cell_type": "markdown",
      "source": [
        "El valor máximo posible es: 78\n",
        "\n",
        "El valor mínimo posible es: -70\n",
        "\n",
        "Los posibles valores entre el mínimo y máximo:\n",
        "\n",
        "[-70, -69, -68, -67, -66, -65, -64, -63, -62, -61, -60, -59, -58, -57, -56, -55, -54, -53, -52, -51, -50, -49, -48, -47, -46, -45, -44, -43, -42, -41, -40, -39, -38, -37, -36, -35, -34, -33, -32, -31, -30, -29, -28, -27, -26, -25, -24, -23, -22, -21, -20, -19, -18, -17, -16, -15, -14, -13, -12, -11, -10, -9, -8, -7, -6, -5, -4, -3, -2, -1, 0, 1, 2, 3, 4, 5, 6, 7, 8, 9, 10, 11, 12, 13, 14, 15, 16, 17, 18, 19, 20, 21, 22, 23, 24, 25, 26, 27, 28, 29, 30, 31, 32, 33, 34, 35, 36, 37, 38, 39, 40, 41, 42, 43, 44, 45, 46, 47, 48, 49, 50, 51, 52, 53, 54, 55, 56, 57, 58, 59, 60, 61, 62, 63, 64, 65, 66, 67, 68, 69, 70, 71, 72, 73, 74, 75, 76, 77, 78]"
      ],
      "metadata": {
        "id": "koFnMvg7ZLyp"
      }
    },
    {
      "cell_type": "code",
      "source": [],
      "metadata": {
        "id": "h_pOPjbbafZY"
      },
      "execution_count": null,
      "outputs": []
    },
    {
      "cell_type": "markdown",
      "metadata": {
        "id": "3_-exlrTgLd-"
      },
      "source": [
        "<strong>(*)¿Cuantas posibilidades hay sin tener en cuenta las restricciones?</strong><br>\n",
        "\n",
        "\n",
        "\n",
        "¿Cuantas posibilidades hay teniendo en cuenta todas las restricciones.\n",
        "\n",
        "\n"
      ]
    },
    {
      "cell_type": "markdown",
      "source": [
        "* ¿Cuantas posibilidades hay sin tener en cuenta las restricciones?\n",
        "\n",
        "Sin tomar en cuenta restricciones, realizamos 2 tipos de conteo. El primero para la permutación de números y el segundo para la permutación de operadores.\n",
        "El total de permutaciones de números sin tener en cuenta las restricciones del problema son: 9 * 9 * 9 * 9 * 9 = 59046.\n",
        "\n",
        "Y luego, el total de permutaciones de operaciones sin tener en cuenta las restricciones del problema son: 4 * 4 * 4 * 4 = 256\n",
        "\n",
        "Por lo tanto, el total de posibilidades sin tener en cuenta las restricciones del problema son: 59046 * 256 = 15115776\n",
        "\n",
        "\n",
        "* ¿Cuantas posibilidades hay teniendo en cuenta las restricciones?\n",
        "\n",
        "Igualmente, realizamos 2 tipos de conteo. El primero para la permutación de números y el segundo para la permutación de operadores.\n",
        "El total de permutaciones de números con las restricciones del problema son: 9 * 8 * 7 * 6 * 5 = 15 120\n",
        "\n",
        "Y luego, el total de permutaciones de operaciones con las restricciones del problema son: 4 * 3 * 2 * 1 = 24\n",
        "\n",
        "Por lo tanto, el total de posibilidades sin tener en cuenta las restricciones del problema son: 15120 * 24 = 362880"
      ],
      "metadata": {
        "id": "xaqNhAOsds9b"
      }
    },
    {
      "cell_type": "code",
      "source": [],
      "metadata": {
        "id": "_k0EGvLCfkl_"
      },
      "execution_count": null,
      "outputs": []
    },
    {
      "cell_type": "markdown",
      "metadata": {
        "id": "dzynfVJahHoY"
      },
      "source": [
        "Modelo para el espacio de soluciones<br>\n",
        "<strong>(*) ¿Cual es la estructura de datos que mejor se adapta al problema? Argumentalo.(Es posible que hayas elegido una al principio y veas la necesidad de cambiar, arguentalo)</strong>\n"
      ]
    },
    {
      "cell_type": "markdown",
      "metadata": {
        "id": "xFIJrOwKi2Ti"
      },
      "source": [
        "Utilicé 2 estructuras de datos muy similares entre sí. \n",
        "La primera es un array de strings, donde cada string es una posible solución al problema: ['7 * 9-6+3/5', '3+9 * 5-6/1', '8 * 5-7/4+1', '4/2+5 * 8-3', '7-2/8+5 * 6', ...]\n",
        "\n",
        "Y, la segunda es muy parecida, consiste en un array de tuplas, donde la primera posición de la tupla es una posible solución, y la segunda posición de la tupla es el score dado por la función fitness del algoritmo genético: [('7 * 9-6+3/5', 2.5), ('3+9 * 5-6/1', 0.5), ...]"
      ]
    },
    {
      "cell_type": "code",
      "source": [],
      "metadata": {
        "id": "I8ySkFRNhIgG"
      },
      "execution_count": null,
      "outputs": []
    },
    {
      "cell_type": "markdown",
      "metadata": {
        "id": "7Z9U2W7bi-XS"
      },
      "source": [
        "Según el modelo para el espacio de soluciones<br>\n",
        "<strong>(*)¿Cual es la función objetivo?</strong>\n",
        "\n",
        "<strong>(*)¿Es un problema de maximización o minimización?</strong>"
      ]
    },
    {
      "cell_type": "markdown",
      "metadata": {
        "id": "hBalWLM7j1_d"
      },
      "source": [
        "* La función objetivo consiste en realizar una diferencia entre el valor \"target\" y el resultado de evaluar la fórmula que se está trabajando, y esta diferencia se espera que se vaya acercando cada vez más a 0. Por motivos de comprensión, se realiza una operación inversa para poder maximizar este resultado. Lo que significa que mientras mayor sea el resultado fitness, más estaremos acercándonos al \"target\".\n",
        "\n",
        "$fitness = \\frac{1}{abs(target - eval(formula))}$\n",
        "\n",
        "\n",
        "* No es problema de maximización ni minimización, sino que consiste en un problema de búsqueda o exploración."
      ]
    },
    {
      "cell_type": "code",
      "source": [
        "fitness_function = lambda individuo, x: 1 / abs(x - eval(individuo)) if x - eval(individuo) != 0 else np.inf"
      ],
      "metadata": {
        "id": "afo_awEshdpA"
      },
      "execution_count": 1,
      "outputs": []
    },
    {
      "cell_type": "markdown",
      "metadata": {
        "id": "rlnTYgY1j6I2"
      },
      "source": [
        "Diseña un algoritmo para resolver el problema por fuerza bruta"
      ]
    },
    {
      "cell_type": "markdown",
      "metadata": {
        "id": "70rDgxYXkC8r"
      },
      "source": [
        "1. Generar permutaciones de números de 1 - 9, de largo 5.\n",
        "2. Generar permutaciones de operaciones.\n",
        "\n",
        "Para cada elemento \"x\" en las permutacion de números\n",
        "\n",
        "y para cada elemento \"y\" en las permutaciones de operaciones\n",
        "\n",
        "3. Generar posible solución intercalando \"x\" y \"y\".\n",
        "\n",
        "Para cada posible solución generada\n",
        "\n",
        "4. Buscar el valor máximo y mínimo de entre todas las soluciones.\n"
      ]
    },
    {
      "cell_type": "code",
      "metadata": {
        "id": "CJb5sQ0qkENy"
      },
      "source": [
        "from itertools import permutations\n",
        "import numpy as np\n",
        "import random\n",
        "import time"
      ],
      "execution_count": 10,
      "outputs": []
    },
    {
      "cell_type": "code",
      "source": [
        "numbers = list(range(1, 10))\n",
        "operations = ['+', '-', '*', '/']\n",
        "\n",
        "numbers_combination = [i for i in permutations(numbers, 5)]\n",
        "operations_combination = [i for i in permutations(operations)]\n",
        "total = []\n",
        "\n",
        "for n in numbers_combination:\n",
        "  for x in operations_combination:\n",
        "    total.append(f'{n[0]}{x[0]}{n[1]}{x[1]}{n[2]}{x[2]}{n[3]}{x[3]}{n[4]}')"
      ],
      "metadata": {
        "id": "VDT9I4X4aomX"
      },
      "execution_count": 11,
      "outputs": []
    },
    {
      "cell_type": "code",
      "source": [
        "numbers_combination = [i for i in permutations(numbers, 5)]\n",
        "operations_combination = [i for i in permutations(operations)]\n",
        "total = []\n",
        "\n",
        "for n in numbers_combination:\n",
        "  for x in operations_combination:\n",
        "    total.append(f'{n[0]}{x[0]}{n[1]}{x[1]}{n[2]}{x[2]}{n[3]}{x[3]}{n[4]}')"
      ],
      "metadata": {
        "id": "B69vxYXaaogg"
      },
      "execution_count": null,
      "outputs": []
    },
    {
      "cell_type": "code",
      "source": [
        "def fuerza_bruta(num, permutations):\n",
        "  resultados = []\n",
        "  max = -np.inf\n",
        "  operation_max = None\n",
        "\n",
        "  min = np.inf\n",
        "  operation_min = None\n",
        "\n",
        "  expresion = None\n",
        "  for x in permutations:\n",
        "    result = int(eval(x))\n",
        "    resultados.append(result)\n",
        "\n",
        "    if result == num and expresion == None:\n",
        "      expresion = x\n",
        "\n",
        "    if result > max:\n",
        "      max = result\n",
        "      operation_max = [x]\n",
        "    elif result == max:\n",
        "      operation_max = x\n",
        "\n",
        "    if result < min:\n",
        "      min = result\n",
        "      operation_min = [x]\n",
        "    elif result == min:\n",
        "      operation_min = x\n",
        "    \n",
        "  resultados = list(set(resultados))\n",
        "  resultados.sort()\n",
        "  print('Todos los reultados posibles son:')\n",
        "  print(resultados)\n",
        "\n",
        "  print()\n",
        "\n",
        "  print(f'El resultado máximo es: {max} con {operation_max}')\n",
        "  print(f'El resultado máximo es: {min} con {operation_min}')\n",
        "  return expresion"
      ],
      "metadata": {
        "id": "Kn9Roehoasd5"
      },
      "execution_count": null,
      "outputs": []
    },
    {
      "cell_type": "code",
      "source": [
        "start_time = time.time()\n",
        "expresion = fuerza_bruta(4, total)\n",
        "\n",
        "print('\\n\\n--- %s seconds ---' % (time.time() - start_time))"
      ],
      "metadata": {
        "colab": {
          "base_uri": "https://localhost:8080/"
        },
        "id": "M-sNpOdraxiS",
        "outputId": "1d18b29e-b86f-4e3d-80ad-118397672439"
      },
      "execution_count": null,
      "outputs": [
        {
          "output_type": "stream",
          "name": "stdout",
          "text": [
            "Todos los reultados posibles son:\n",
            "[-70, -69, -68, -67, -66, -65, -64, -63, -62, -61, -60, -59, -58, -57, -56, -55, -54, -53, -52, -51, -50, -49, -48, -47, -46, -45, -44, -43, -42, -41, -40, -39, -38, -37, -36, -35, -34, -33, -32, -31, -30, -29, -28, -27, -26, -25, -24, -23, -22, -21, -20, -19, -18, -17, -16, -15, -14, -13, -12, -11, -10, -9, -8, -7, -6, -5, -4, -3, -2, -1, 0, 1, 2, 3, 4, 5, 6, 7, 8, 9, 10, 11, 12, 13, 14, 15, 16, 17, 18, 19, 20, 21, 22, 23, 24, 25, 26, 27, 28, 29, 30, 31, 32, 33, 34, 35, 36, 37, 38, 39, 40, 41, 42, 43, 44, 45, 46, 47, 48, 49, 50, 51, 52, 53, 54, 55, 56, 57, 58, 59, 60, 61, 62, 63, 64, 65, 66, 67, 68, 69, 70, 71, 72, 73, 74, 75, 76, 77, 78]\n",
            "\n",
            "El resultado máximo es: 78 con 9*8+7-5/6\n",
            "El resultado máximo es: -70 con 6/7-9*8+1\n",
            "\n",
            "\n",
            "--- 3.7698862552642822 seconds ---\n"
          ]
        }
      ]
    },
    {
      "cell_type": "code",
      "source": [
        "print(f'La operación resultante es:', expresion)\n",
        "print(f'El valor obtenido es:', int(eval(expresion)))"
      ],
      "metadata": {
        "colab": {
          "base_uri": "https://localhost:8080/"
        },
        "id": "HcFJ-0UHa-ua",
        "outputId": "4958a9f4-d682-472e-9c4b-5549acec688d"
      },
      "execution_count": null,
      "outputs": [
        {
          "output_type": "stream",
          "name": "stdout",
          "text": [
            "La operación resultante es: 1-2*3/4+5\n",
            "El valor obtenido es: 4\n"
          ]
        }
      ]
    },
    {
      "cell_type": "markdown",
      "metadata": {
        "id": "tgrnsC2nkFa8"
      },
      "source": [
        "Calcula la complejidad del algoritmo por fuerza bruta"
      ]
    },
    {
      "cell_type": "markdown",
      "metadata": {
        "id": "9eUd3xwckP68"
      },
      "source": [
        "La complejidad para calcular las permutaciones está dada por O(n!) + O(m!) siendo n el número de operandos y m el número de operadores. Generar todas las posibles soluciones está dado por O(n * m). Finalmente, encontrar el resultado del máximo y minimo es O(n * m). \n",
        "\n",
        "La complejidad total es: O(n!) + O(m!)"
      ]
    },
    {
      "cell_type": "code",
      "metadata": {
        "id": "rvZWwL-ckRST"
      },
      "source": [],
      "execution_count": null,
      "outputs": []
    },
    {
      "cell_type": "markdown",
      "metadata": {
        "id": "txbrmLmskReM"
      },
      "source": [
        "(*)Diseña un algoritmo que mejore la complejidad del algortimo por fuerza bruta. Argumenta porque crees que mejora el algoritmo por fuerza bruta"
      ]
    },
    {
      "cell_type": "markdown",
      "metadata": {
        "id": "hLrVwt5QkZPD"
      },
      "source": [
        "El algoritmo que se diseñó fue el de algoritmo genético, pues como se mencionó anteriormente, se necesita explorar una familia de soluciones, y entre los individuos ir seleccionando los mejores individuos para seguir generando más, y acercarse poco a poco al resultado óptimo. \n",
        "\n",
        "Considero que un algoritmo genético mejora mucho la complejidad del algoritmo genético pues no es necesario generar todas las posibles soluciones, sino solamente seleccionar un pequeño grupo de soluciones, y dependiendo de la función de parada, que se implementó estableciendo un número máximo de repeticiones. Los cuales son mucho mejores y toman menos tiempo en ejecutarse que por fuerza bruta."
      ]
    },
    {
      "cell_type": "code",
      "metadata": {
        "id": "m1eyM21Vkabg"
      },
      "source": [],
      "execution_count": null,
      "outputs": []
    },
    {
      "cell_type": "markdown",
      "metadata": {
        "id": "eGDB4K6uk1iN"
      },
      "source": [
        "(*)Calcula la complejidad del algoritmo "
      ]
    },
    {
      "cell_type": "markdown",
      "metadata": {
        "id": "NhpTh_BPk1ms"
      },
      "source": [
        "La complejidad del algoritmo es O(n * m), siendo n el tamaño de la población, y m la cantidad máxima de iteraciones (función de parada) que se le asigna al algoritmo."
      ]
    },
    {
      "cell_type": "code",
      "metadata": {
        "id": "nREzhkStlCq8"
      },
      "source": [],
      "execution_count": null,
      "outputs": []
    },
    {
      "cell_type": "markdown",
      "metadata": {
        "id": "3M6QjTsSkmYe"
      },
      "source": [
        "Según el problema (y tenga sentido), diseña un juego de datos de entrada aleatorios"
      ]
    },
    {
      "cell_type": "markdown",
      "metadata": {
        "id": "Jc3_OlyNkvjZ"
      },
      "source": []
    },
    {
      "cell_type": "code",
      "metadata": {
        "id": "sJ-N2etjkyWc"
      },
      "source": [
        "juego_input_inicial = [0, 15, 20, -50, -32, 78, -70]\n",
        "juego_entrada_inicial = ['1-6+8*9/3', '9*2/3+8-5', '5*6+4-3/1', '2-1+8/5*6', '3*1/4-6+2', '3+7-2/4*1', '4+9*3/5-6', '9+5/1-7*2', '6*9/1-5+8', '2/5+1*6-3', '5-4/2*3+7', '2/7*3+8-5', '1/8+3*7-6', '5-9/7*8+4', '2+9*6-7/3', '8*2-1+6/3', '9+4-2/7*6', '1*4-5/2+3', '7-5+6*8/4', '8-5/6*2+3', '4+6/7-8*5', '7+2-4*1/9', '3/2*1-8+5', '5/6*8+1-7', '7*1/5+9-4', '4*1-3+6/5', '6+4*9/8-3', '6*2+1/3-8', '9*4+7-3/5', '4*2+9-6/1', '5-9+2/8*1', '7-8/9*4+5', '8/5+7*3-9', '7/8+1*9-4', '1-8+7*2/9', '2*4+5-9/3', '7-1+6/5*2', '6/4+1-2*5', '2/6-5*4+7', '3-7+1*8/5', '9-4*6/3+5', '1*7/3-6+9', '5*1-2+7/4', '6-7+9*5/4', '7*9-1+2/5', '1/3+9*4-6', '1+3*6-5/9', '5/7*4+9-8', '8-6*4/9+2', '2+5*4/8-6', '5+7/8-2*6', '5+1*2/3-6', '9-8/4+7*2', '8+9-3*5/4', '9*5+2-4/6', '9/8*5-4+2', '7-2/5*6+1', '4+5-7/1*9', '9-3+1/6*8', '1-8*2+6/3', '1/9+7-4*6', '3+5-8*6/9', '3/7-5+1*4', '6/8-9+2*7', '1/6*9-5+8', '6-3*1+4/5', '8*9-4/7+6', '9-4*5+3/2', '1/6+7-5*8', '9*6/8+7-2', '9/4*3-5+8', '1*8-4+9/6', '1*2/4+9-6', '6*8-1+4/9', '9+4-3/8*1', '6*7-4/1+2', '7-3/6+5*1', '6/3*4+9-7', '2/4-8+9*3', '2*1+9/8-7', '2-1*3+9/7', '4-6/9+8*7', '7+6-9*3/1', '9+7-8/5*6', '4*7-9+6/2', '3/4*7+9-2', '9-1/5*7+3', '9*7+2/3-8', '4*7/3-6+5', '4/6-3+1*8', '6*8/4+5-3', '8-5/1*6+7', '8/9+1-6*4', '2*3-9+1/4', '9/7+4-5*1', '2-3/8+7*9', '8/4*5+9-3', '6+7*4-3/5', '1*4/6-2+9', '9-6/2*5+8']"
      ],
      "execution_count": 2,
      "outputs": []
    },
    {
      "cell_type": "markdown",
      "metadata": {
        "id": "zy5ZROmjlGo1"
      },
      "source": [
        "Aplica el algoritmo al juego de datos generado"
      ]
    },
    {
      "cell_type": "markdown",
      "metadata": {
        "id": "_Cmj-PVylMsa"
      },
      "source": [
        "###Algoritmo genético"
      ]
    },
    {
      "cell_type": "code",
      "metadata": {
        "id": "Jkx8GeiYlUz1"
      },
      "source": [
        "expand_operation = lambda operation: ([operation[x] for x in range(len(operation)) if x % 2 == 0], [operation[x] for x in range(len(operation)) if x % 2 != 0])"
      ],
      "execution_count": 12,
      "outputs": []
    },
    {
      "cell_type": "code",
      "source": [
        "def generate_solution(N):\n",
        "  solutions = []\n",
        "  for i in range(N):\n",
        "    rand_num = random.randint(0, len(numbers_combination) - 1)\n",
        "    rand_op = random.randint(0, len(operations_combination) - 1)\n",
        "\n",
        "    num = numbers_combination[rand_num]\n",
        "    op = operations_combination[rand_op]\n",
        "\n",
        "    solutions.append(f'{num[0]}{op[0]}{num[1]}{op[1]}{num[2]}{op[2]}{num[3]}{op[3]}{num[4]}')\n",
        "\n",
        "  return solutions"
      ],
      "metadata": {
        "id": "0nOShbYacCX0"
      },
      "execution_count": 13,
      "outputs": []
    },
    {
      "cell_type": "code",
      "source": [
        "def crossover(population):\n",
        "  children = []\n",
        "  population_ = population.copy()\n",
        "  while len(population_) > 1:\n",
        "    father = population_.pop(random.randint(0, len(population_) - 1))\n",
        "    mother = population_.pop(random.randint(0, len(population_) - 1))\n",
        "\n",
        "    slice_point = random.randint(1, len(father) - 2)\n",
        "    father_pt1, father_pt2 = father[:slice_point], father[slice_point:]\n",
        "    mother_pt1, mother_pt2 = mother[:slice_point], mother[slice_point:]\n",
        "\n",
        "    child1, child2 = father_pt1 + mother_pt2, mother_pt1 + father_pt2\n",
        "    children.append(child1)\n",
        "    children.append(child2)\n",
        "\n",
        "  return children"
      ],
      "metadata": {
        "id": "F6whfMQvcETn"
      },
      "execution_count": 14,
      "outputs": []
    },
    {
      "cell_type": "code",
      "source": [
        "def check_children(child):\n",
        "  nums, ops = expand_operation(child)\n",
        "\n",
        "  if len(nums) != len(list(set(nums))) or len(ops) != len(list(set(ops))):\n",
        "    available_numbers = [i for i in range(1, 10) if str(i) not in nums]\n",
        "    numbers_in_child = []\n",
        "    for num in nums:\n",
        "      if num not in numbers_in_child:\n",
        "        numbers_in_child.append(num)\n",
        "      else:\n",
        "        new_num = available_numbers.pop(random.randint(0, len(available_numbers) - 1))\n",
        "        numbers_in_child.append(str(new_num))\n",
        "    \n",
        "    available_ops = [i for i in ['+', '-', '*', '/'] if i not in ops]\n",
        "    ops_in_child = []\n",
        "    for op in ops:\n",
        "      if op not in ops_in_child:\n",
        "        ops_in_child.append(op)\n",
        "      else:\n",
        "        new_op = available_ops.pop(random.randint(0, len(available_ops) - 1))\n",
        "        ops_in_child.append(str(new_op))\n",
        "    \n",
        "    corrected_child = f'{numbers_in_child[0]}{ops_in_child[0]}{numbers_in_child[1]}{ops_in_child[1]}{numbers_in_child[2]}{ops_in_child[2]}{numbers_in_child[3]}{ops_in_child[3]}{numbers_in_child[4]}'\n",
        "    return corrected_child\n",
        "  else:\n",
        "    return child"
      ],
      "metadata": {
        "id": "lkd53M8CcGMR"
      },
      "execution_count": 15,
      "outputs": []
    },
    {
      "cell_type": "code",
      "source": [
        "fitness_function = lambda individuo, x: 1 / abs(x - eval(individuo)) if x - eval(individuo) != 0 else np.inf"
      ],
      "metadata": {
        "id": "SE5UNr87cb9u"
      },
      "execution_count": 16,
      "outputs": []
    },
    {
      "cell_type": "code",
      "source": [
        "def algoritmo_genetico(target, fitness, max_iter):\n",
        "  cantidad_inicial = 100\n",
        "  poblacion_inicial = generate_solution(cantidad_inicial)\n",
        "\n",
        "  resultado_fitness = list(map(lambda x: fitness(x, target), poblacion_inicial))\n",
        "  \n",
        "  poblacion_fitness = list(zip(poblacion_inicial, resultado_fitness))\n",
        "  poblacion_fitness.sort(key = lambda x: x[1], reverse = True)\n",
        "  \n",
        "  cont = 0\n",
        "  best_op = None\n",
        "  best_try = 0\n",
        "  tries = 0\n",
        "  while cont < max_iter:\n",
        "    seleccion = poblacion_fitness[:int(0.7*len(poblacion_fitness))]\n",
        "    seleccion = [x[0] for x in seleccion]\n",
        "    \n",
        "    children = crossover(seleccion)\n",
        "    children = [check_children(child) for child in children] + generate_solution(cantidad_inicial - len(seleccion))\n",
        "\n",
        "    resultado_fitness = list(map(lambda x: fitness(x, target), children))\n",
        "    poblacion_fitness = list(zip(children, resultado_fitness))\n",
        "    poblacion_fitness.sort(key = lambda x: x[1], reverse = True)\n",
        "\n",
        "    if poblacion_fitness[0][1] == np.inf:\n",
        "      best_op = poblacion_fitness[0][0]\n",
        "      break\n",
        "    else:\n",
        "      if poblacion_fitness[0][1] > best_try:\n",
        "        print(f'Score actual: {poblacion_fitness[0][1]} en el intento: {cont}')\n",
        "        best_op = poblacion_fitness[0][0]\n",
        "        best_try = poblacion_fitness[0][1]\n",
        "        tries = 0\n",
        "      else:\n",
        "        tries += 1\n",
        "\n",
        "      if tries > 0.25 * max_iter:\n",
        "        break\n",
        "\n",
        "    cont += 1\n",
        "\n",
        "  print(f'Intentos para llegar al óptimo:', cont)\n",
        "  return best_op"
      ],
      "metadata": {
        "id": "Tb150Kh4cdop"
      },
      "execution_count": 17,
      "outputs": []
    },
    {
      "cell_type": "code",
      "source": [
        "start_time = time.time()\n",
        "\n",
        "N = 200\n",
        "operacion = algoritmo_genetico(62, fitness_function, N)\n",
        "\n",
        "print('\\n\\n--- %s seconds ---' % (time.time() - start_time))\n",
        "print()\n",
        "print()\n",
        "\n",
        "print(f'La operación resultante es:', operacion)\n",
        "print(f'El valor obtenido es:', int(eval(operacion)))"
      ],
      "metadata": {
        "colab": {
          "base_uri": "https://localhost:8080/"
        },
        "id": "kdE1I-R4cg-S",
        "outputId": "a059cde6-ff49-4bd7-d328-9658cf8cefb3"
      },
      "execution_count": 27,
      "outputs": [
        {
          "output_type": "stream",
          "name": "stdout",
          "text": [
            "Score actual: 0.125 en el intento: 0\n",
            "Score actual: 0.8333333333333314 en el intento: 1\n",
            "Score actual: 2.6666666666666665 en el intento: 2\n",
            "Score actual: 3.0000000000000426 en el intento: 13\n",
            "Intentos para llegar al óptimo: 14\n",
            "\n",
            "\n",
            "--- 0.04817461967468262 seconds ---\n",
            "\n",
            "\n",
            "La operación resultante es: 7*9-4+6/2\n",
            "El valor obtenido es: 62\n"
          ]
        }
      ]
    },
    {
      "cell_type": "code",
      "source": [],
      "metadata": {
        "id": "ymdWZwLEco2M"
      },
      "execution_count": 20,
      "outputs": []
    },
    {
      "cell_type": "markdown",
      "metadata": {
        "id": "eTFWUJQrtGcv"
      },
      "source": [
        "Enumera las referencias que has utilizado(si ha sido necesario) para llevar a cabo el trabajo"
      ]
    },
    {
      "cell_type": "markdown",
      "source": [
        "\n",
        "\n",
        "*   https://www.tusclases.pe/blog/algoritmo-genetico-schedule-optimization-python#:~:text=Un%20algoritmo%20genético%20es%20una,descendencia%20de%20la%20siguiente%20generación.\n",
        "*   https://anderfernandez.com/blog/algoritmo-genetico-en-python/\n",
        "\n"
      ],
      "metadata": {
        "id": "sWmG3Myq6Eoj"
      }
    },
    {
      "cell_type": "markdown",
      "metadata": {
        "id": "YKQ_mRBttWsP"
      },
      "source": [
        "Respuesta"
      ]
    },
    {
      "cell_type": "markdown",
      "metadata": {
        "id": "kAkDPUyRtYyH"
      },
      "source": [
        "Describe brevemente las lineas de como crees que es posible avanzar en el estudio del problema. Ten en cuenta incluso posibles variaciones del problema y/o variaciones al alza del tamaño"
      ]
    },
    {
      "cell_type": "markdown",
      "metadata": {
        "id": "IE0uZmo-tZu-"
      },
      "source": [
        "Las variaciones al problema sería poder incluir operaciones tales como la potencia y la raíz cuadrada. También, que se permita repetir operaciones para poder utilizar más operandos. Otra forma de variar el problema, sería darle al algoritmo un input de los operandos y operadores, para restringir en cierta manera qué símbolos se pueden utilizar.\n",
        "\n",
        "Otras formas de estudio del problema, sería interesante poder resolver este problema a través de otros métodos como ramificación y poda, colonia de hormigas y otros, que permitan mejorar o ampliar las áreas de exploración del problema."
      ]
    },
    {
      "cell_type": "code",
      "source": [],
      "metadata": {
        "id": "6sWpAJiFAG2q"
      },
      "execution_count": null,
      "outputs": []
    }
  ]
}