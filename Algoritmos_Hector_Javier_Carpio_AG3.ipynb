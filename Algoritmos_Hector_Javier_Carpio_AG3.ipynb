{
  "nbformat": 4,
  "nbformat_minor": 0,
  "metadata": {
    "colab": {
      "provenance": [],
      "authorship_tag": "ABX9TyMqrJ0Qo6g2rk7Ph7XhmbzY",
      "include_colab_link": true
    },
    "kernelspec": {
      "name": "python3",
      "display_name": "Python 3"
    },
    "language_info": {
      "name": "python"
    }
  },
  "cells": [
    {
      "cell_type": "markdown",
      "metadata": {
        "id": "view-in-github",
        "colab_type": "text"
      },
      "source": [
        "<a href=\"https://colab.research.google.com/github/javiercarpio57/03MIAR---Algoritmos-de-Optimizacion/blob/main/Algoritmos_Hector_Javier_Carpio_AG3.ipynb\" target=\"_parent\"><img src=\"https://colab.research.google.com/assets/colab-badge.svg\" alt=\"Open In Colab\"/></a>"
      ]
    },
    {
      "cell_type": "markdown",
      "source": [
        "# Actividad Guiada 3\n",
        "\n",
        "<strong>Nombre: Héctor Javier Carpio García</strong>\n",
        "\n",
        "\n",
        "https://colab.research.google.com/drive/1otTvQgj5rdFPME_IuPxFrGWkTh7Fw7PX?usp=sharing\n",
        "\n",
        "https://github.com/javiercarpio57/03MIAR---Algoritmos-de-Optimizacion.git"
      ],
      "metadata": {
        "id": "wtIGJ9q90eIh"
      }
    },
    {
      "cell_type": "code",
      "execution_count": 1,
      "metadata": {
        "colab": {
          "base_uri": "https://localhost:8080/"
        },
        "id": "5orvEg9R0NcP",
        "outputId": "f59125df-5852-473c-9d94-e26fb1666247"
      },
      "outputs": [
        {
          "output_type": "stream",
          "name": "stdout",
          "text": [
            "Looking in indexes: https://pypi.org/simple, https://us-python.pkg.dev/colab-wheels/public/simple/\n",
            "Requirement already satisfied: requests in /usr/local/lib/python3.8/dist-packages (2.25.1)\n",
            "Requirement already satisfied: chardet<5,>=3.0.2 in /usr/local/lib/python3.8/dist-packages (from requests) (4.0.0)\n",
            "Requirement already satisfied: certifi>=2017.4.17 in /usr/local/lib/python3.8/dist-packages (from requests) (2022.12.7)\n",
            "Requirement already satisfied: idna<3,>=2.5 in /usr/local/lib/python3.8/dist-packages (from requests) (2.10)\n",
            "Requirement already satisfied: urllib3<1.27,>=1.21.1 in /usr/local/lib/python3.8/dist-packages (from requests) (1.24.3)\n",
            "Looking in indexes: https://pypi.org/simple, https://us-python.pkg.dev/colab-wheels/public/simple/\n",
            "Collecting tsplib95\n",
            "  Downloading tsplib95-0.7.1-py2.py3-none-any.whl (25 kB)\n",
            "Collecting Deprecated~=1.2.9\n",
            "  Downloading Deprecated-1.2.13-py2.py3-none-any.whl (9.6 kB)\n",
            "Requirement already satisfied: tabulate~=0.8.7 in /usr/local/lib/python3.8/dist-packages (from tsplib95) (0.8.10)\n",
            "Collecting networkx~=2.1\n",
            "  Downloading networkx-2.8.8-py3-none-any.whl (2.0 MB)\n",
            "\u001b[2K     \u001b[90m━━━━━━━━━━━━━━━━━━━━━━━━━━━━━━━━━━━━━━━━\u001b[0m \u001b[32m2.0/2.0 MB\u001b[0m \u001b[31m14.5 MB/s\u001b[0m eta \u001b[36m0:00:00\u001b[0m\n",
            "\u001b[?25hRequirement already satisfied: Click>=6.0 in /usr/local/lib/python3.8/dist-packages (from tsplib95) (7.1.2)\n",
            "Requirement already satisfied: wrapt<2,>=1.10 in /usr/local/lib/python3.8/dist-packages (from Deprecated~=1.2.9->tsplib95) (1.14.1)\n",
            "Installing collected packages: networkx, Deprecated, tsplib95\n",
            "  Attempting uninstall: networkx\n",
            "    Found existing installation: networkx 3.0\n",
            "    Uninstalling networkx-3.0:\n",
            "      Successfully uninstalled networkx-3.0\n",
            "Successfully installed Deprecated-1.2.13 networkx-2.8.8 tsplib95-0.7.1\n"
          ]
        }
      ],
      "source": [
        "!pip install requests    #Hacer llamadas http a paginas de la red\n",
        "!pip install tsplib95    #Modulo para las instancias del problema del TSP"
      ]
    },
    {
      "cell_type": "markdown",
      "source": [
        "#Carga de los datos del problema"
      ],
      "metadata": {
        "id": "m7pIvwNb2P0p"
      }
    },
    {
      "cell_type": "code",
      "source": [
        "import urllib.request #Hacer llamadas http a paginas de la red\n",
        "import tsplib95       #Modulo para las instancias del problema del TSP\n",
        "import math           #Modulo de funciones matematicas. Se usa para exp\n",
        "import random                     #Para generar valores aleatorios\n",
        "\n",
        "\n",
        "#http://elib.zib.de/pub/mp-testdata/tsp/tsplib/\n",
        "#Documentacion : \n",
        "  # http://comopt.ifi.uni-heidelberg.de/software/TSPLIB95/tsp95.pdf\n",
        "  # https://tsplib95.readthedocs.io/en/stable/pages/usage.html\n",
        "  # https://tsplib95.readthedocs.io/en/v0.6.1/modules.html\n",
        "  # https://pypi.org/project/tsplib95/\n",
        "\n",
        "#Descargamos el fichero de datos(Matriz de distancias)\n",
        "file = \"swiss42.tsp\" ; \n",
        "urllib.request.urlretrieve(\"http://comopt.ifi.uni-heidelberg.de/software/TSPLIB95/tsp/swiss42.tsp.gz\", file + '.gz')\n",
        "!gzip -d swiss42.tsp.gz     #Descomprimir el fichero de datos \n",
        "\n",
        "#Coordendas 51-city problem (Christofides/Eilon)\n",
        "#file = \"eil51.tsp\" ; urllib.request.urlretrieve(\"http://comopt.ifi.uni-heidelberg.de/software/TSPLIB95/tsp/eil51.tsp.gz\", file)\n",
        "\n",
        "#Coordenadas - 48 capitals of the US (Padberg/Rinaldi)\n",
        "#file = \"att48.tsp\" ; urllib.request.urlretrieve(\"http://comopt.ifi.uni-heidelberg.de/software/TSPLIB95/tsp/att48.tsp.gz\", file)"
      ],
      "metadata": {
        "id": "WdlWBqez2Ixa"
      },
      "execution_count": 2,
      "outputs": []
    },
    {
      "cell_type": "code",
      "source": [
        "#Carga de datos y generación de objeto problem\n",
        "###############################################################################\n",
        "problem = tsplib95.load(file)\n",
        "\n",
        "#Nodos\n",
        "Nodos = list(problem.get_nodes())\n",
        "\n",
        "#Aristas\n",
        "Aristas = list(problem.get_edges())"
      ],
      "metadata": {
        "id": "4cdn3OvW2Ntp"
      },
      "execution_count": 15,
      "outputs": []
    },
    {
      "cell_type": "code",
      "source": [
        "#Probamos algunas funciones del objeto problem\n",
        "\n",
        "#Distancia entre nodos\n",
        "problem.get_weight(0, 1)\n",
        "\n",
        "#Todas las funciones\n",
        "#Documentación: https://tsplib95.readthedocs.io/en/v0.6.1/modules.html\n",
        "                \n",
        "#dir(problem)"
      ],
      "metadata": {
        "colab": {
          "base_uri": "https://localhost:8080/"
        },
        "id": "MbKlTAXf2hX0",
        "outputId": "a93bec7f-592f-4b90-d6af-e91e13077aec"
      },
      "execution_count": 4,
      "outputs": [
        {
          "output_type": "execute_result",
          "data": {
            "text/plain": [
              "15"
            ]
          },
          "metadata": {},
          "execution_count": 4
        }
      ]
    },
    {
      "cell_type": "code",
      "source": [
        " \n",
        "#Funcionas basicas\n",
        "###############################################################################      \n",
        "     \n",
        "#Se genera una solucion aleatoria con comienzo en en el nodo 0\n",
        "def crear_solucion(Nodos): \n",
        "  solucion = [Nodos[0]]\n",
        "  for n in Nodos[1:]:\n",
        "    solucion = solucion + [random.choice(list(set(Nodos) - set({Nodos[0]}) - set(solucion)))]\n",
        "  return solucion \n",
        "\n",
        "#Devuelve la distancia entre dos nodos\n",
        "def distancia(a, b, problem):\n",
        "  return problem.get_weight(a,b)\n",
        "\n",
        "#Devuelve la distancia total de una trayectoria/solucion\n",
        "def distancia_total(solucion, problem):\n",
        "  distancia_total = 0\n",
        "  for i in range(len(solucion)-1):\n",
        "    distancia_total += distancia(solucion[i], solucion[i+1], problem)\n",
        "  return distancia_total + distancia(solucion[len(solucion)-1] ,solucion[0], problem)"
      ],
      "metadata": {
        "id": "jGcyvzmu2krr"
      },
      "execution_count": 5,
      "outputs": []
    },
    {
      "cell_type": "markdown",
      "source": [
        "#BÚSQUEDA ALEATORIA"
      ],
      "metadata": {
        "id": "9RgUlhRv3XV3"
      }
    },
    {
      "cell_type": "code",
      "source": [
        "###############################################################################\n",
        "# BUSQUEDA ALEATORIA\n",
        "###############################################################################\n",
        "\n",
        "def busqueda_aleatoria(problem, N):\n",
        "  #N es el numero de iteraciones\n",
        "  Nodos = list(problem.get_nodes())\n",
        "  \n",
        "  mejor_solucion = []\n",
        "  #mejor_distancia = 10e100                         #Inicializamos con un valor alto\n",
        "  mejor_distancia = float('inf')                    #Inicializamos con un valor alto\n",
        "  \n",
        "  for i in range(N):                                #Criterio de parada: repetir N veces pero podemos incluir otros\n",
        "    solucion = crear_solucion(Nodos)                #Genera una solucion aleatoria\n",
        "    distancia = distancia_total(solucion, problem)  #Calcula el valor objetivo(distancia total)\n",
        "    \n",
        "    if distancia < mejor_distancia:                 #Compara con la mejor obtenida hasta ahora\n",
        "      mejor_solucion = solucion\n",
        "      mejor_distancia = distancia\n",
        "      \n",
        "      \n",
        "  print(\"Mejor solución:\" , mejor_solucion) \n",
        "  print(\"Distancia     :\" , mejor_distancia) \n",
        "  return mejor_solucion"
      ],
      "metadata": {
        "id": "Vof25thU3VFq"
      },
      "execution_count": 6,
      "outputs": []
    },
    {
      "cell_type": "code",
      "source": [
        "#Busqueda aleatoria con 5000 iteraciones\n",
        "solucion = busqueda_aleatoria(problem, 10000)"
      ],
      "metadata": {
        "colab": {
          "base_uri": "https://localhost:8080/"
        },
        "id": "Qhj6-CJy3feB",
        "outputId": "d2583a49-8c18-4a35-99e5-64d734532f0d"
      },
      "execution_count": 7,
      "outputs": [
        {
          "output_type": "stream",
          "name": "stdout",
          "text": [
            "Mejor solución: [0, 3, 28, 27, 20, 17, 14, 32, 15, 22, 34, 39, 21, 40, 12, 37, 7, 5, 1, 16, 36, 18, 19, 13, 2, 9, 24, 38, 35, 29, 25, 33, 30, 10, 8, 11, 23, 6, 26, 41, 4, 31]\n",
            "Distancia     : 3820\n"
          ]
        }
      ]
    },
    {
      "cell_type": "markdown",
      "source": [
        "#BUSQUEDA LOCAL"
      ],
      "metadata": {
        "id": "UL_wY1LdAXRY"
      }
    },
    {
      "cell_type": "code",
      "source": [
        "###############################################################################\n",
        "# BUSQUEDA LOCAL\n",
        "###############################################################################\n",
        "def genera_vecina(solucion):\n",
        "  #Generador de soluciones vecinas: 2-opt (intercambiar 2 nodos) Si hay N nodos se generan (N-1)x(N-2)/2 soluciones\n",
        "  #Se puede modificar para aplicar otros generadores distintos que 2-opt\n",
        "  #print(solucion)\n",
        "  mejor_solucion = []\n",
        "  mejor_distancia = 10e100\n",
        "  for i in range(1,len(solucion)-1):          #Recorremos todos los nodos en bucle doble para evaluar todos los intercambios 2-opt\n",
        "    for j in range(i+1, len(solucion)):\n",
        "      \n",
        "      #Se genera una nueva solución intercambiando los dos nodos i,j:\n",
        "      #  (usamos el operador + que para listas en python las concatena) : ej.: [1,2] + [3] = [1,2,3]\n",
        "      vecina = solucion[:i] + [solucion[j]] + solucion[i+1:j] + [solucion[i]] + solucion[j+1:]\n",
        "\n",
        "      #Se evalua la nueva solución ...\n",
        "      distancia_vecina = distancia_total(vecina, problem)         \n",
        "\n",
        "      #... para guardarla si mejora las anteriores\n",
        "      if distancia_vecina <= mejor_distancia:\n",
        "        mejor_distancia = distancia_vecina\n",
        "        mejor_solucion = vecina\n",
        "  return mejor_solucion"
      ],
      "metadata": {
        "id": "ZNWmfQYv3jm4"
      },
      "execution_count": 8,
      "outputs": []
    },
    {
      "cell_type": "code",
      "source": [
        "#solucion = [1, 47, 13, 41, 40, 19, 42, 44, 37, 5, 22, 28, 3, 2, 29, 21, 50, 34, 30, 9, 16, 11, 38, 49, 10, 39, 33, 45, 15, 24, 43, 26, 31, 36, 35, 20, 8, 7, 23, 48, 27, 12, 17, 4, 18, 25, 14, 6, 51, 46, 32]\n",
        "print(\"Distancia Solucion Incial:\" , distancia_total(solucion, problem))\n",
        "\n",
        "nueva_solucion = genera_vecina(solucion)\n",
        "print(\"Distancia Mejor Solucion Local:\", distancia_total(nueva_solucion, problem))"
      ],
      "metadata": {
        "colab": {
          "base_uri": "https://localhost:8080/"
        },
        "id": "xa0A_3CuAiNz",
        "outputId": "cd80c2a6-69ef-4547-8f25-0fc48409f6a8"
      },
      "execution_count": 9,
      "outputs": [
        {
          "output_type": "stream",
          "name": "stdout",
          "text": [
            "Distancia Solucion Incial: 3820\n",
            "Distancia Mejor Solucion Local: 3469\n"
          ]
        }
      ]
    },
    {
      "cell_type": "code",
      "source": [
        "#Busqueda Local:\n",
        "#  - Sobre el operador de vecindad 2-opt(funcion genera_vecina)\n",
        "#  - Sin criterio de parada, se para cuando no es posible mejorar.\n",
        "def busqueda_local(solucion_inicial, problem):\n",
        "  mejor_solucion = []\n",
        "\n",
        "  mejor_distancia = distancia_total(solucion_inicial, problem)\n",
        "  iteracion = 0             #Un contador para saber las iteraciones que hacemos\n",
        "  while 1:\n",
        "    iteracion += 1         #Incrementamos el contador\n",
        "    #print('#',iteracion)\n",
        "\n",
        "    #Obtenemos la mejor vecina ...\n",
        "    vecina = genera_vecina(solucion_inicial)\n",
        "\n",
        "    #... y la evaluamos para ver si mejoramos respecto a lo encontrado hasta el momento\n",
        "    distancia_vecina = distancia_total(vecina, problem)\n",
        " \n",
        "    #Si no mejoramos hay que terminar. Hemos llegado a un minimo local(según nuestro operador de vencindad 2-opt)\n",
        "    if distancia_vecina < mejor_distancia:\n",
        "      #mejor_solucion = copy.deepcopy(vecina)   #Con copia profunda. Las copias en python son por referencia \n",
        "      mejor_solucion = vecina                   #Guarda la mejor solución encontrada\n",
        "      mejor_distancia = distancia_vecina\n",
        "\n",
        "    else:\n",
        "      print(\"En la iteracion \", iteracion, \", la mejor solución encontrada es:\" , mejor_solucion) \n",
        "      print(\"Distancia     :\" , mejor_distancia)\n",
        "      return mejor_solucion\n",
        "      \n",
        "    solucion_inicial = vecina"
      ],
      "metadata": {
        "id": "fELZM1_gAlx4"
      },
      "execution_count": 19,
      "outputs": []
    },
    {
      "cell_type": "code",
      "source": [
        "#Generar una solucion inicial de referencia(aleatoria)\n",
        "solucion_referencia = crear_solucion(Nodos)\n",
        "\n",
        "sol = busqueda_local(solucion_referencia, problem)"
      ],
      "metadata": {
        "colab": {
          "base_uri": "https://localhost:8080/"
        },
        "id": "yPnLOmWyAwAJ",
        "outputId": "1130d965-7ff1-4cf9-fa9c-09ef26e9ca95"
      },
      "execution_count": 20,
      "outputs": [
        {
          "output_type": "stream",
          "name": "stdout",
          "text": [
            "En la iteracion  31 , la mejor solución encontrada es: [0, 6, 5, 26, 18, 8, 21, 24, 40, 10, 13, 19, 14, 16, 15, 7, 37, 36, 35, 33, 38, 22, 39, 9, 23, 41, 25, 11, 12, 4, 3, 2, 27, 28, 29, 30, 1, 17, 31, 20, 34, 32]\n",
            "Distancia     : 1760\n"
          ]
        }
      ]
    },
    {
      "cell_type": "markdown",
      "source": [
        "###Búsqueda local con entorno variables\n",
        "####Búsqueda con Multi-arranque"
      ],
      "metadata": {
        "id": "FdwYuTPjMFWQ"
      }
    },
    {
      "cell_type": "code",
      "source": [
        "def busqueda_multiarranque(problem, iter):\n",
        "  solucion = crear_solucion(Nodos)\n",
        "\n",
        "  mejor_solucion = solucion\n",
        "  mejor_distancia = distancia_total(solucion, problem)\n",
        "\n",
        "  cont = 0\n",
        "  while cont < iter:\n",
        "    solucion_f = busqueda_local(solucion, problem)\n",
        "\n",
        "    distancia_f = distancia_total(solucion_f, problem)\n",
        "    if distancia_f < mejor_distancia:\n",
        "      mejor_solucion = solucion_f\n",
        "      mejor_distancia = distancia_f\n",
        "\n",
        "    solucion = crear_solucion(Nodos)\n",
        "    cont += 1\n",
        "\n",
        "  print(\"Distancia:\", mejor_distancia)\n",
        "  return solucion"
      ],
      "metadata": {
        "id": "df3qHdDVMEYv"
      },
      "execution_count": 30,
      "outputs": []
    },
    {
      "cell_type": "code",
      "source": [
        "sol = busqueda_multiarranque(problem, 10)"
      ],
      "metadata": {
        "colab": {
          "base_uri": "https://localhost:8080/"
        },
        "id": "hlyogBUVNbaC",
        "outputId": "87f56669-aa9b-4b41-add4-c0796cf6d360"
      },
      "execution_count": 32,
      "outputs": [
        {
          "output_type": "stream",
          "name": "stdout",
          "text": [
            "En la iteracion  32 , la mejor solución encontrada es: [0, 37, 15, 16, 14, 19, 13, 18, 10, 29, 30, 22, 39, 21, 24, 38, 34, 33, 20, 6, 26, 4, 3, 2, 8, 9, 40, 23, 41, 25, 11, 12, 5, 17, 36, 35, 31, 32, 28, 27, 1, 7]\n",
            "Distancia     : 1845\n",
            "En la iteracion  38 , la mejor solución encontrada es: [0, 27, 2, 3, 4, 18, 10, 24, 40, 25, 11, 13, 19, 7, 17, 31, 38, 22, 39, 21, 29, 30, 28, 26, 5, 6, 1, 32, 34, 33, 20, 35, 36, 37, 15, 16, 14, 12, 41, 23, 9, 8]\n",
            "Distancia     : 1973\n",
            "En la iteracion  38 , la mejor solución encontrada es: [0, 7, 37, 15, 16, 14, 19, 29, 22, 30, 28, 3, 4, 6, 26, 12, 11, 25, 41, 23, 9, 40, 24, 21, 39, 38, 34, 33, 20, 35, 36, 17, 31, 32, 27, 2, 8, 10, 18, 13, 5, 1]\n",
            "Distancia     : 1680\n",
            "En la iteracion  33 , la mejor solución encontrada es: [0, 25, 11, 12, 18, 26, 6, 4, 27, 28, 30, 29, 9, 21, 39, 22, 38, 24, 40, 23, 41, 10, 8, 2, 3, 1, 17, 35, 36, 37, 15, 16, 14, 19, 13, 5, 7, 31, 20, 33, 34, 32]\n",
            "Distancia     : 1646\n",
            "En la iteracion  32 , la mejor solución encontrada es: [0, 1, 3, 2, 28, 29, 22, 39, 9, 23, 41, 10, 25, 11, 12, 18, 34, 20, 31, 17, 37, 7, 8, 40, 24, 21, 14, 15, 16, 19, 13, 5, 26, 6, 4, 27, 32, 36, 35, 33, 38, 30]\n",
            "Distancia     : 2019\n",
            "En la iteracion  31 , la mejor solución encontrada es: [0, 17, 31, 35, 36, 37, 15, 16, 14, 6, 4, 3, 9, 39, 21, 40, 24, 22, 38, 30, 29, 8, 23, 41, 18, 26, 5, 19, 13, 12, 11, 25, 10, 2, 27, 28, 32, 34, 33, 20, 7, 1]\n",
            "Distancia     : 1643\n",
            "En la iteracion  43 , la mejor solución encontrada es: [0, 1, 6, 7, 37, 17, 32, 29, 8, 9, 23, 41, 10, 28, 2, 27, 3, 4, 26, 18, 25, 11, 12, 5, 13, 19, 14, 16, 15, 20, 33, 34, 38, 22, 39, 24, 40, 21, 30, 35, 36, 31]\n",
            "Distancia     : 1797\n",
            "En la iteracion  32 , la mejor solución encontrada es: [0, 1, 6, 5, 26, 4, 3, 7, 37, 17, 31, 20, 33, 34, 32, 27, 12, 11, 25, 41, 23, 29, 30, 28, 2, 13, 19, 16, 15, 14, 18, 10, 8, 9, 22, 38, 35, 36, 39, 24, 40, 21]\n",
            "Distancia     : 2041\n",
            "En la iteracion  37 , la mejor solución encontrada es: [0, 1, 32, 20, 31, 17, 37, 15, 14, 13, 19, 16, 36, 35, 7, 5, 26, 25, 41, 8, 4, 3, 2, 27, 28, 29, 9, 23, 40, 24, 21, 39, 22, 38, 33, 34, 30, 10, 11, 12, 18, 6]\n",
            "Distancia     : 1783\n",
            "En la iteracion  32 , la mejor solución encontrada es: [0, 32, 20, 33, 34, 38, 22, 6, 14, 16, 15, 17, 31, 7, 1, 4, 3, 2, 27, 28, 30, 29, 8, 9, 39, 21, 24, 40, 23, 13, 19, 37, 36, 35, 10, 41, 25, 11, 12, 18, 26, 5]\n",
            "Distancia     : 1868\n",
            "Distancia: 1643\n"
          ]
        }
      ]
    },
    {
      "cell_type": "code",
      "source": [
        "print(sol)"
      ],
      "metadata": {
        "colab": {
          "base_uri": "https://localhost:8080/"
        },
        "id": "NLTmQ7TkOd01",
        "outputId": "74b6ffd0-b40a-4451-f0e8-ef36b3d31d94"
      },
      "execution_count": 33,
      "outputs": [
        {
          "output_type": "stream",
          "name": "stdout",
          "text": [
            "[0, 35, 7, 28, 39, 34, 41, 12, 30, 21, 9, 1, 38, 10, 23, 18, 24, 15, 32, 11, 19, 36, 17, 3, 26, 31, 8, 25, 40, 2, 16, 14, 27, 33, 22, 20, 13, 6, 5, 4, 37, 29]\n"
          ]
        }
      ]
    },
    {
      "cell_type": "markdown",
      "source": [
        "#SIMULATED ANNEALING"
      ],
      "metadata": {
        "id": "mB4o9I8eEQUk"
      }
    },
    {
      "cell_type": "code",
      "source": [
        "###############################################################################\n",
        "# SIMULATED ANNEALING\n",
        "###############################################################################\n",
        "\n",
        "#Generador de 1 solucion vecina 2-opt 100% aleatoria (intercambiar 2 nodos)\n",
        "#Mejorable eligiendo otra forma de elegir una vecina.\n",
        "def genera_vecina_aleatorio(solucion):\n",
        "  i, j = sorted(random.sample(range(1, len(solucion)), 2))\n",
        "  return solucion[:i] + [solucion[j]] + solucion[i+1: j] + [solucion[i]] + solucion[j+1:]\n",
        "  \n",
        "def genera_vecina_nueva(solucion, problem):\n",
        "  distancia_mayor_a = -float('inf')\n",
        "  pos_a = 0\n",
        "  for i in range(len(solucion) - 1):\n",
        "    dist = distancia(solucion[i], solucion[i + 1], problem)\n",
        "    if dist > distancia_mayor_a:\n",
        "      pos_a = i\n",
        "      distancia_mayor_a = dist\n",
        "\n",
        "  distancia_mayor_b = -float('inf')\n",
        "  pos_b = 0\n",
        "  for i in range(len(solucion) - 1):\n",
        "    dist = distancia(solucion[i], solucion[i + 1], problem)\n",
        "    if dist > distancia_mayor_b and dist < distancia_mayor_a:\n",
        "      pos_b = i\n",
        "      distancia_mayor_b = dist\n",
        "\n",
        "  pos_a, pos_b = (pos_a, pos_b) if pos_a < pos_b else (pos_b, pos_a)\n",
        "  return solucion[:pos_a] + [solucion[pos_b]] + solucion[pos_a + 1: pos_b] + [solucion[pos_a]] + solucion[pos_b + 1:]\n",
        " \n",
        "#Funcion de probabilidad para aceptar peores soluciones\n",
        "def probabilidad(T,d):\n",
        "  if random.random() < math.exp(-1 * d / T):\n",
        "    return True\n",
        "  else:\n",
        "    return False\n",
        "\n",
        "#Funcion de descenso de temperatura\n",
        "def bajar_temperatura(T):\n",
        "  return T * 0.99"
      ],
      "metadata": {
        "id": "XW8LQDy1BGj3"
      },
      "execution_count": 76,
      "outputs": []
    },
    {
      "cell_type": "code",
      "source": [
        "def recocido_simulado(problem, TEMPERATURA ):\n",
        "  #problem = datos del problema\n",
        "  #T = Temperatura\n",
        "  \n",
        "  solucion_referencia = crear_solucion(Nodos)\n",
        "  distancia_referencia = distancia_total(solucion_referencia, problem)\n",
        "  \n",
        "  mejor_solucion = []             #x* del seudocodigo\n",
        "  mejor_distancia = 10e100        #F* del seudocodigo\n",
        "  \n",
        "  \n",
        "  N=0\n",
        "  while TEMPERATURA > .0001:\n",
        "    N+=1\n",
        "    #Genera una solución vecina\n",
        "    vecina = genera_vecina_nueva(solucion_referencia, problem)\n",
        "    \n",
        "    #Calcula su valor(distancia)\n",
        "    distancia_vecina = distancia_total(vecina, problem)\n",
        "      \n",
        "    #Si es la mejor solución de todas se guarda(siempre!!!)\n",
        "    if distancia_vecina < mejor_distancia:\n",
        "        mejor_solucion = vecina\n",
        "        mejor_distancia = distancia_vecina\n",
        "    \n",
        "    #Si la nueva vecina es mejor se cambia  \n",
        "    #Si es peor se cambia según una probabilidad que depende de T y delta(distancia_referencia - distancia_vecina)\n",
        "    if distancia_vecina < distancia_referencia or probabilidad(TEMPERATURA, abs(distancia_referencia - distancia_vecina) ) :\n",
        "      #solucion_referencia = copy.deepcopy(vecina)\n",
        "      solucion_referencia = vecina\n",
        "      distancia_referencia = distancia_vecina\n",
        "\n",
        "    #Bajamos la temperatura\n",
        "    TEMPERATURA = bajar_temperatura(TEMPERATURA)\n",
        " \n",
        "  print(\"La mejor solución encontrada es\", mejor_solucion)\n",
        "  print(\"con una distancia total de\", mejor_distancia)\n",
        "  return mejor_solucion"
      ],
      "metadata": {
        "id": "MWIEo8odFhIG"
      },
      "execution_count": 80,
      "outputs": []
    },
    {
      "cell_type": "code",
      "source": [
        "sol  = recocido_simulado(problem, 10000000)"
      ],
      "metadata": {
        "colab": {
          "base_uri": "https://localhost:8080/"
        },
        "id": "oB3vm3jdFjzB",
        "outputId": "e9a31d5c-4ed9-4388-a974-7e3f19067b88"
      },
      "execution_count": 81,
      "outputs": [
        {
          "output_type": "stream",
          "name": "stdout",
          "text": [
            "La mejor solución encontrada es [0, 12, 39, 24, 9, 38, 25, 41, 7, 11, 40, 22, 19, 31, 34, 10, 15, 37, 16, 26, 14, 4, 1, 28, 32, 2, 33, 8, 6, 17, 3, 5, 27, 35, 29, 18, 36, 20, 13, 21, 23, 30]\n",
            "con una distancia total de 4260\n"
          ]
        }
      ]
    },
    {
      "cell_type": "markdown",
      "source": [
        "¿Se puede mejorar con otra elección no tan aleatoria (función genera_vecina_aleatorio())?"
      ],
      "metadata": {
        "id": "LA7h2a8uZN6M"
      }
    },
    {
      "cell_type": "markdown",
      "source": [
        "Se intentó encontrar las dos ciudades con distancias más largas en toda la solución, e intercambiarlas entre sí, para tratar de reducir las dos distancias más largas y encontrar distancias más pequeñas. Sin embargo, utilizar esta heurística empeora en cierta parte el resultado de una selección aleatoria."
      ],
      "metadata": {
        "id": "LaUeNAuhaB47"
      }
    }
  ]
}